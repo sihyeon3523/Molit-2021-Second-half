{
  "nbformat": 4,
  "nbformat_minor": 0,
  "metadata": {
    "colab": {
      "name": "#18~19생성_분기/반기생성",
      "provenance": [],
      "collapsed_sections": []
    },
    "kernelspec": {
      "name": "python3",
      "display_name": "Python 3"
    },
    "language_info": {
      "name": "python"
    }
  },
  "cells": [
    {
      "cell_type": "markdown",
      "metadata": {
        "id": "xcBQrCSfqByV"
      },
      "source": [
        "### 필요 열 생성 \n",
        "- 분기\n",
        "- 반기\n",
        "\n",
        "**분석 데이터 생성 후, 엑셀 작업**\n",
        "- #18 Graph. 관평5 단지의 공용 전기료 증감 추이 \n",
        "- #19 Graph. 지족20 단지의 공용 전기료 증감 추이 "
      ]
    },
    {
      "cell_type": "markdown",
      "metadata": {
        "id": "jYmGvc5RvQI8"
      },
      "source": [
        "###필요 열 생성\n",
        "- 분기\n",
        "- 반기"
      ]
    },
    {
      "cell_type": "code",
      "metadata": {
        "id": "fF-esKODp_U7"
      },
      "source": [
        "|import pandas as pd"
      ],
      "execution_count": null,
      "outputs": []
    },
    {
      "cell_type": "code",
      "metadata": {
        "id": "-9rtHfakp_U_"
      },
      "source": [
        "df = pd.read_csv(\"아파트전체정보_ver0.2.csv\", engine = 'python')"
      ],
      "execution_count": null,
      "outputs": []
    },
    {
      "cell_type": "code",
      "metadata": {
        "id": "99Qi1VdBp_VA",
        "outputId": "699389f4-b01f-4d08-aea3-aa6fe4deb6de"
      },
      "source": [
        "df.columns"
      ],
      "execution_count": null,
      "outputs": [
        {
          "data": {
            "text/plain": [
              "Index(['명칭(단지코드)', '부과년월', '전기공용_우리단지총액', '부과년도', '부과월', '단지분류', '법정동주소',\n",
              "       '사용승인일', '동수', '세대수', '행정구', '법정동', '사용승인년도', '사용승인년도_범위', '세대수_범위',\n",
              "       '가명칭', '세대전기계약방식', '승강기대수', '지상', '지하', '주차관제.홈네트워크', 'CCTV대수',\n",
              "       '부대복리시설수', '반기', '분기', 'Unnamed: 25', 'Unnamed: 26', 'Unnamed: 27',\n",
              "       'Unnamed: 28', 'Unnamed: 29', 'Unnamed: 30'],\n",
              "      dtype='object')"
            ]
          },
          "execution_count": 7,
          "metadata": {},
          "output_type": "execute_result"
        }
      ]
    },
    {
      "cell_type": "code",
      "metadata": {
        "id": "fm2TmHKFrMCW"
      },
      "source": [
        "df['반기'] = ''\n",
        "df['분기'] = ''"
      ],
      "execution_count": null,
      "outputs": []
    },
    {
      "cell_type": "code",
      "metadata": {
        "id": "eM6hGw_rrMCW",
        "outputId": "85109cff-d66a-44a2-e764-453c38d6d272"
      },
      "source": [
        "df['부과년월'][0]"
      ],
      "execution_count": null,
      "outputs": [
        {
          "data": {
            "text/plain": [
              "nan"
            ]
          },
          "execution_count": 6,
          "metadata": {},
          "output_type": "execute_result"
        }
      ]
    },
    {
      "cell_type": "code",
      "metadata": {
        "id": "_V-JoKe4rMCW",
        "outputId": "d6b63ef6-6589-4979-b185-ccad0fb3a034"
      },
      "source": [
        "df.info()"
      ],
      "execution_count": null,
      "outputs": [
        {
          "name": "stdout",
          "output_type": "stream",
          "text": [
            "<class 'pandas.core.frame.DataFrame'>\n",
            "RangeIndex: 17448 entries, 0 to 17447\n",
            "Data columns (total 25 columns):\n",
            "명칭(단지코드)       17448 non-null object\n",
            "부과년월           17447 non-null float64\n",
            "전기공용_우리단지총액    17447 non-null float64\n",
            "부과년도           17447 non-null float64\n",
            "부과월            17447 non-null float64\n",
            "단지분류           17448 non-null object\n",
            "법정동주소          17448 non-null object\n",
            "사용승인일          17448 non-null int64\n",
            "동수             17448 non-null int64\n",
            "세대수            17448 non-null int64\n",
            "행정구            17448 non-null object\n",
            "법정동            17448 non-null object\n",
            "사용승인년도         17448 non-null int64\n",
            "사용승인년도_범위      17448 non-null int64\n",
            "세대수_범위         17448 non-null int64\n",
            "가명칭            17448 non-null object\n",
            "세대전기계약방식       17448 non-null object\n",
            "승강기대수          17448 non-null int64\n",
            "지상             17427 non-null float64\n",
            "지하             17448 non-null int64\n",
            "주차관제.홈네트워크     17427 non-null object\n",
            "CCTV대수         17448 non-null int64\n",
            "부대복리시설수        17448 non-null int64\n",
            "반기             17448 non-null object\n",
            "분기             17448 non-null object\n",
            "dtypes: float64(5), int64(10), object(10)\n",
            "memory usage: 3.3+ MB\n"
          ]
        }
      ]
    },
    {
      "cell_type": "code",
      "metadata": {
        "id": "_Tf4gcTYrMCX",
        "outputId": "4ed45754-12ae-4f95-d648-b7b918a6450f"
      },
      "source": [
        "for i in range(len(df)):\n",
        "    if df['부과월'][i] in [1,2,3,4,5,6]:\n",
        "        df['반기'][i] = '상반기'\n",
        "    else:\n",
        "        df['반기'][i] = '하반기'"
      ],
      "execution_count": null,
      "outputs": [
        {
          "name": "stderr",
          "output_type": "stream",
          "text": [
            "C:\\Users\\Itshony\\Anaconda3\\lib\\site-packages\\ipykernel_launcher.py:5: SettingWithCopyWarning: \n",
            "A value is trying to be set on a copy of a slice from a DataFrame\n",
            "\n",
            "See the caveats in the documentation: http://pandas.pydata.org/pandas-docs/stable/indexing.html#indexing-view-versus-copy\n",
            "  \"\"\"\n",
            "C:\\Users\\Itshony\\Anaconda3\\lib\\site-packages\\ipykernel_launcher.py:3: SettingWithCopyWarning: \n",
            "A value is trying to be set on a copy of a slice from a DataFrame\n",
            "\n",
            "See the caveats in the documentation: http://pandas.pydata.org/pandas-docs/stable/indexing.html#indexing-view-versus-copy\n",
            "  This is separate from the ipykernel package so we can avoid doing imports until\n"
          ]
        }
      ]
    },
    {
      "cell_type": "code",
      "metadata": {
        "id": "JsRpFfgerMCX",
        "outputId": "d24b1801-8c00-464c-fcc8-7ae19fa58600"
      },
      "source": [
        "for i in range(len(df)):\n",
        "    if df['부과월'][i] in [1,2,3]:\n",
        "        df['분기'][i] = 1\n",
        "    elif df['부과월'][i] in [4,5,6]:\n",
        "        df['분기'][i] = 2\n",
        "    elif df['부과월'][i] in [7, 8, 9]:\n",
        "        df['분기'][i] = 3\n",
        "    else:\n",
        "        df['분기'][i] = 4"
      ],
      "execution_count": null,
      "outputs": [
        {
          "name": "stderr",
          "output_type": "stream",
          "text": [
            "C:\\Users\\Itshony\\Anaconda3\\lib\\site-packages\\ipykernel_launcher.py:9: SettingWithCopyWarning: \n",
            "A value is trying to be set on a copy of a slice from a DataFrame\n",
            "\n",
            "See the caveats in the documentation: http://pandas.pydata.org/pandas-docs/stable/indexing.html#indexing-view-versus-copy\n",
            "  if __name__ == '__main__':\n",
            "C:\\Users\\Itshony\\Anaconda3\\lib\\site-packages\\ipykernel_launcher.py:5: SettingWithCopyWarning: \n",
            "A value is trying to be set on a copy of a slice from a DataFrame\n",
            "\n",
            "See the caveats in the documentation: http://pandas.pydata.org/pandas-docs/stable/indexing.html#indexing-view-versus-copy\n",
            "  \"\"\"\n",
            "C:\\Users\\Itshony\\Anaconda3\\lib\\site-packages\\ipykernel_launcher.py:3: SettingWithCopyWarning: \n",
            "A value is trying to be set on a copy of a slice from a DataFrame\n",
            "\n",
            "See the caveats in the documentation: http://pandas.pydata.org/pandas-docs/stable/indexing.html#indexing-view-versus-copy\n",
            "  This is separate from the ipykernel package so we can avoid doing imports until\n",
            "C:\\Users\\Itshony\\Anaconda3\\lib\\site-packages\\ipykernel_launcher.py:7: SettingWithCopyWarning: \n",
            "A value is trying to be set on a copy of a slice from a DataFrame\n",
            "\n",
            "See the caveats in the documentation: http://pandas.pydata.org/pandas-docs/stable/indexing.html#indexing-view-versus-copy\n",
            "  import sys\n"
          ]
        }
      ]
    },
    {
      "cell_type": "code",
      "metadata": {
        "id": "Th6lbdDorMCX",
        "outputId": "cb916fa6-835c-4be5-c1a4-baa6d50636bf"
      },
      "source": [
        "df.head()"
      ],
      "execution_count": null,
      "outputs": [
        {
          "data": {
            "text/html": [
              "<div>\n",
              "<style scoped>\n",
              "    .dataframe tbody tr th:only-of-type {\n",
              "        vertical-align: middle;\n",
              "    }\n",
              "\n",
              "    .dataframe tbody tr th {\n",
              "        vertical-align: top;\n",
              "    }\n",
              "\n",
              "    .dataframe thead th {\n",
              "        text-align: right;\n",
              "    }\n",
              "</style>\n",
              "<table border=\"1\" class=\"dataframe\">\n",
              "  <thead>\n",
              "    <tr style=\"text-align: right;\">\n",
              "      <th></th>\n",
              "      <th>명칭(단지코드)</th>\n",
              "      <th>부과년월</th>\n",
              "      <th>전기공용_우리단지총액</th>\n",
              "      <th>부과년도</th>\n",
              "      <th>부과월</th>\n",
              "      <th>단지분류</th>\n",
              "      <th>법정동주소</th>\n",
              "      <th>사용승인일</th>\n",
              "      <th>동수</th>\n",
              "      <th>세대수</th>\n",
              "      <th>...</th>\n",
              "      <th>가명칭</th>\n",
              "      <th>세대전기계약방식</th>\n",
              "      <th>승강기대수</th>\n",
              "      <th>지상</th>\n",
              "      <th>지하</th>\n",
              "      <th>주차관제.홈네트워크</th>\n",
              "      <th>CCTV대수</th>\n",
              "      <th>부대복리시설수</th>\n",
              "      <th>반기</th>\n",
              "      <th>분기</th>\n",
              "    </tr>\n",
              "  </thead>\n",
              "  <tbody>\n",
              "    <tr>\n",
              "      <th>0</th>\n",
              "      <td>A10024157</td>\n",
              "      <td>NaN</td>\n",
              "      <td>NaN</td>\n",
              "      <td>NaN</td>\n",
              "      <td>NaN</td>\n",
              "      <td>아파트</td>\n",
              "      <td>대전광역시 유성구 봉명동 676-4</td>\n",
              "      <td>20180213</td>\n",
              "      <td>1</td>\n",
              "      <td>162</td>\n",
              "      <td>...</td>\n",
              "      <td>봉명22</td>\n",
              "      <td>단일계약</td>\n",
              "      <td>2</td>\n",
              "      <td>0.0</td>\n",
              "      <td>94</td>\n",
              "      <td>무</td>\n",
              "      <td>51</td>\n",
              "      <td>1</td>\n",
              "      <td>하반기</td>\n",
              "      <td>4</td>\n",
              "    </tr>\n",
              "    <tr>\n",
              "      <th>1</th>\n",
              "      <td>A10024275</td>\n",
              "      <td>202105.0</td>\n",
              "      <td>6033880.0</td>\n",
              "      <td>2021.0</td>\n",
              "      <td>5.0</td>\n",
              "      <td>아파트</td>\n",
              "      <td>대전광역시 서구 탄방동 59-1</td>\n",
              "      <td>20200427</td>\n",
              "      <td>10</td>\n",
              "      <td>776</td>\n",
              "      <td>...</td>\n",
              "      <td>탄방1</td>\n",
              "      <td>단일계약</td>\n",
              "      <td>26</td>\n",
              "      <td>44.0</td>\n",
              "      <td>935</td>\n",
              "      <td>유</td>\n",
              "      <td>384</td>\n",
              "      <td>9</td>\n",
              "      <td>상반기</td>\n",
              "      <td>2</td>\n",
              "    </tr>\n",
              "    <tr>\n",
              "      <th>2</th>\n",
              "      <td>A10024275</td>\n",
              "      <td>202106.0</td>\n",
              "      <td>6332710.0</td>\n",
              "      <td>2021.0</td>\n",
              "      <td>6.0</td>\n",
              "      <td>아파트</td>\n",
              "      <td>대전광역시 서구 탄방동 59-1</td>\n",
              "      <td>20200427</td>\n",
              "      <td>10</td>\n",
              "      <td>776</td>\n",
              "      <td>...</td>\n",
              "      <td>탄방1</td>\n",
              "      <td>단일계약</td>\n",
              "      <td>26</td>\n",
              "      <td>44.0</td>\n",
              "      <td>935</td>\n",
              "      <td>유</td>\n",
              "      <td>384</td>\n",
              "      <td>9</td>\n",
              "      <td>상반기</td>\n",
              "      <td>2</td>\n",
              "    </tr>\n",
              "    <tr>\n",
              "      <th>3</th>\n",
              "      <td>A10024294</td>\n",
              "      <td>202105.0</td>\n",
              "      <td>3083326.0</td>\n",
              "      <td>2021.0</td>\n",
              "      <td>5.0</td>\n",
              "      <td>주상복합</td>\n",
              "      <td>대전광역시 중구 오류동 170-5</td>\n",
              "      <td>20210428</td>\n",
              "      <td>1</td>\n",
              "      <td>154</td>\n",
              "      <td>...</td>\n",
              "      <td>오류1</td>\n",
              "      <td>종합계약</td>\n",
              "      <td>5</td>\n",
              "      <td>15.0</td>\n",
              "      <td>198</td>\n",
              "      <td>무</td>\n",
              "      <td>51</td>\n",
              "      <td>3</td>\n",
              "      <td>상반기</td>\n",
              "      <td>2</td>\n",
              "    </tr>\n",
              "    <tr>\n",
              "      <th>4</th>\n",
              "      <td>A10024294</td>\n",
              "      <td>202106.0</td>\n",
              "      <td>3485564.0</td>\n",
              "      <td>2021.0</td>\n",
              "      <td>6.0</td>\n",
              "      <td>주상복합</td>\n",
              "      <td>대전광역시 중구 오류동 170-5</td>\n",
              "      <td>20210428</td>\n",
              "      <td>1</td>\n",
              "      <td>154</td>\n",
              "      <td>...</td>\n",
              "      <td>오류1</td>\n",
              "      <td>종합계약</td>\n",
              "      <td>5</td>\n",
              "      <td>15.0</td>\n",
              "      <td>198</td>\n",
              "      <td>무</td>\n",
              "      <td>51</td>\n",
              "      <td>3</td>\n",
              "      <td>상반기</td>\n",
              "      <td>2</td>\n",
              "    </tr>\n",
              "  </tbody>\n",
              "</table>\n",
              "<p>5 rows × 25 columns</p>\n",
              "</div>"
            ],
            "text/plain": [
              "    명칭(단지코드)      부과년월  전기공용_우리단지총액    부과년도  부과월  단지분류                법정동주소  \\\n",
              "0  A10024157       NaN          NaN     NaN  NaN   아파트  대전광역시 유성구 봉명동 676-4   \n",
              "1  A10024275  202105.0    6033880.0  2021.0  5.0   아파트    대전광역시 서구 탄방동 59-1   \n",
              "2  A10024275  202106.0    6332710.0  2021.0  6.0   아파트    대전광역시 서구 탄방동 59-1   \n",
              "3  A10024294  202105.0    3083326.0  2021.0  5.0  주상복합   대전광역시 중구 오류동 170-5   \n",
              "4  A10024294  202106.0    3485564.0  2021.0  6.0  주상복합   대전광역시 중구 오류동 170-5   \n",
              "\n",
              "      사용승인일  동수  세대수 ...   가명칭 세대전기계약방식  승강기대수    지상   지하 주차관제.홈네트워크 CCTV대수  \\\n",
              "0  20180213   1  162 ...  봉명22     단일계약      2   0.0   94          무     51   \n",
              "1  20200427  10  776 ...   탄방1     단일계약     26  44.0  935          유    384   \n",
              "2  20200427  10  776 ...   탄방1     단일계약     26  44.0  935          유    384   \n",
              "3  20210428   1  154 ...   오류1     종합계약      5  15.0  198          무     51   \n",
              "4  20210428   1  154 ...   오류1     종합계약      5  15.0  198          무     51   \n",
              "\n",
              "   부대복리시설수   반기  분기  \n",
              "0        1  하반기   4  \n",
              "1        9  상반기   2  \n",
              "2        9  상반기   2  \n",
              "3        3  상반기   2  \n",
              "4        3  상반기   2  \n",
              "\n",
              "[5 rows x 25 columns]"
            ]
          },
          "execution_count": 15,
          "metadata": {},
          "output_type": "execute_result"
        }
      ]
    },
    {
      "cell_type": "code",
      "metadata": {
        "id": "mXOk1jeArMCX"
      },
      "source": [
        "df.to_csv(\"아파트전체정보_ver0.2.csv\", encoding = 'utf-8')"
      ],
      "execution_count": null,
      "outputs": []
    }
  ]
}